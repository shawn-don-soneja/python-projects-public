{
 "cells": [
  {
   "cell_type": "code",
   "execution_count": 206,
   "metadata": {},
   "outputs": [
    {
     "data": {
      "text/html": [
       "<div>\n",
       "<style scoped>\n",
       "    .dataframe tbody tr th:only-of-type {\n",
       "        vertical-align: middle;\n",
       "    }\n",
       "\n",
       "    .dataframe tbody tr th {\n",
       "        vertical-align: top;\n",
       "    }\n",
       "\n",
       "    .dataframe thead th {\n",
       "        text-align: right;\n",
       "    }\n",
       "</style>\n",
       "<table border=\"1\" class=\"dataframe\">\n",
       "  <thead>\n",
       "    <tr style=\"text-align: right;\">\n",
       "      <th></th>\n",
       "      <th>Date</th>\n",
       "      <th>Close</th>\n",
       "      <th>Volume</th>\n",
       "      <th>Open</th>\n",
       "      <th>High</th>\n",
       "      <th>Low</th>\n",
       "    </tr>\n",
       "  </thead>\n",
       "  <tbody>\n",
       "    <tr>\n",
       "      <th>0</th>\n",
       "      <td>3/3/2023</td>\n",
       "      <td>$151.03</td>\n",
       "      <td>70732300</td>\n",
       "      <td>$148.05</td>\n",
       "      <td>$151.11</td>\n",
       "      <td>$147.33</td>\n",
       "    </tr>\n",
       "    <tr>\n",
       "      <th>1</th>\n",
       "      <td>3/2/2023</td>\n",
       "      <td>$145.91</td>\n",
       "      <td>52279760</td>\n",
       "      <td>$144.38</td>\n",
       "      <td>$146.71</td>\n",
       "      <td>$143.90</td>\n",
       "    </tr>\n",
       "    <tr>\n",
       "      <th>2</th>\n",
       "      <td>3/1/2023</td>\n",
       "      <td>$145.31</td>\n",
       "      <td>55478990</td>\n",
       "      <td>$146.83</td>\n",
       "      <td>$147.23</td>\n",
       "      <td>$145.01</td>\n",
       "    </tr>\n",
       "    <tr>\n",
       "      <th>3</th>\n",
       "      <td>2/28/2023</td>\n",
       "      <td>$147.41</td>\n",
       "      <td>50547000</td>\n",
       "      <td>$147.05</td>\n",
       "      <td>$149.08</td>\n",
       "      <td>$146.83</td>\n",
       "    </tr>\n",
       "    <tr>\n",
       "      <th>4</th>\n",
       "      <td>2/27/2023</td>\n",
       "      <td>$147.92</td>\n",
       "      <td>44998470</td>\n",
       "      <td>$147.71</td>\n",
       "      <td>$149.17</td>\n",
       "      <td>$147.45</td>\n",
       "    </tr>\n",
       "  </tbody>\n",
       "</table>\n",
       "</div>"
      ],
      "text/plain": [
       "        Date     Close    Volume      Open      High       Low\n",
       "0   3/3/2023  $151.03   70732300  $148.05   $151.11   $147.33 \n",
       "1   3/2/2023  $145.91   52279760  $144.38   $146.71   $143.90 \n",
       "2   3/1/2023  $145.31   55478990  $146.83   $147.23   $145.01 \n",
       "3  2/28/2023  $147.41   50547000  $147.05   $149.08   $146.83 \n",
       "4  2/27/2023  $147.92   44998470  $147.71   $149.17   $147.45 "
      ]
     },
     "execution_count": 206,
     "metadata": {},
     "output_type": "execute_result"
    }
   ],
   "source": [
    "import pandas as pd\n",
    "import numpy as np\n",
    "import matplotlib.pyplot as plt\n",
    "#%matplotlib inline\n",
    "from matplotlib.pylab import rcParams\n",
    "rcParams['figure.figsize']=20,10\n",
    "from keras.models import Sequential\n",
    "from keras.layers import LSTM,Dropout,Dense\n",
    "from sklearn.preprocessing import MinMaxScaler\n",
    "\n",
    "df = pd.read_csv('aapl_stock_1yr.csv')\n",
    "df.head()\n",
    "\n"
   ]
  },
  {
   "cell_type": "code",
   "execution_count": 207,
   "metadata": {},
   "outputs": [
    {
     "data": {
      "text/html": [
       "<div>\n",
       "<style scoped>\n",
       "    .dataframe tbody tr th:only-of-type {\n",
       "        vertical-align: middle;\n",
       "    }\n",
       "\n",
       "    .dataframe tbody tr th {\n",
       "        vertical-align: top;\n",
       "    }\n",
       "\n",
       "    .dataframe thead th {\n",
       "        text-align: right;\n",
       "    }\n",
       "</style>\n",
       "<table border=\"1\" class=\"dataframe\">\n",
       "  <thead>\n",
       "    <tr style=\"text-align: right;\">\n",
       "      <th></th>\n",
       "      <th>Date</th>\n",
       "      <th>Close</th>\n",
       "      <th>Volume</th>\n",
       "      <th>Open</th>\n",
       "      <th>High</th>\n",
       "      <th>Low</th>\n",
       "    </tr>\n",
       "  </thead>\n",
       "  <tbody>\n",
       "    <tr>\n",
       "      <th>12</th>\n",
       "      <td>2/14/2023</td>\n",
       "      <td>$153.20</td>\n",
       "      <td>61707570</td>\n",
       "      <td>$152.12</td>\n",
       "      <td>$153.77</td>\n",
       "      <td>$150.86</td>\n",
       "    </tr>\n",
       "    <tr>\n",
       "      <th>13</th>\n",
       "      <td>2/13/2023</td>\n",
       "      <td>$153.85</td>\n",
       "      <td>62199010</td>\n",
       "      <td>$150.95</td>\n",
       "      <td>$154.26</td>\n",
       "      <td>$150.92</td>\n",
       "    </tr>\n",
       "    <tr>\n",
       "      <th>14</th>\n",
       "      <td>2/10/2023</td>\n",
       "      <td>$151.01</td>\n",
       "      <td>57450710</td>\n",
       "      <td>$149.46</td>\n",
       "      <td>$151.34</td>\n",
       "      <td>$149.22</td>\n",
       "    </tr>\n",
       "    <tr>\n",
       "      <th>15</th>\n",
       "      <td>2/9/2023</td>\n",
       "      <td>$150.87</td>\n",
       "      <td>56007140</td>\n",
       "      <td>$153.78</td>\n",
       "      <td>$154.33</td>\n",
       "      <td>$150.42</td>\n",
       "    </tr>\n",
       "    <tr>\n",
       "      <th>16</th>\n",
       "      <td>2/8/2023</td>\n",
       "      <td>$151.92</td>\n",
       "      <td>64120080</td>\n",
       "      <td>$153.88</td>\n",
       "      <td>$154.58</td>\n",
       "      <td>$151.17</td>\n",
       "    </tr>\n",
       "    <tr>\n",
       "      <th>17</th>\n",
       "      <td>2/7/2023</td>\n",
       "      <td>$154.65</td>\n",
       "      <td>83322550</td>\n",
       "      <td>$150.64</td>\n",
       "      <td>$155.23</td>\n",
       "      <td>$150.64</td>\n",
       "    </tr>\n",
       "    <tr>\n",
       "      <th>18</th>\n",
       "      <td>2/6/2023</td>\n",
       "      <td>$151.73</td>\n",
       "      <td>69858310</td>\n",
       "      <td>$152.58</td>\n",
       "      <td>$153.10</td>\n",
       "      <td>$150.78</td>\n",
       "    </tr>\n",
       "  </tbody>\n",
       "</table>\n",
       "</div>"
      ],
      "text/plain": [
       "         Date     Close    Volume      Open      High       Low\n",
       "12  2/14/2023  $153.20   61707570  $152.12   $153.77   $150.86 \n",
       "13  2/13/2023  $153.85   62199010  $150.95   $154.26   $150.92 \n",
       "14  2/10/2023  $151.01   57450710  $149.46   $151.34   $149.22 \n",
       "15   2/9/2023  $150.87   56007140  $153.78   $154.33   $150.42 \n",
       "16   2/8/2023  $151.92   64120080  $153.88   $154.58   $151.17 \n",
       "17   2/7/2023  $154.65   83322550  $150.64   $155.23   $150.64 \n",
       "18   2/6/2023  $151.73   69858310  $152.58   $153.10   $150.78 "
      ]
     },
     "execution_count": 207,
     "metadata": {},
     "output_type": "execute_result"
    }
   ],
   "source": [
    "df.tail(7)"
   ]
  },
  {
   "cell_type": "code",
   "execution_count": 208,
   "metadata": {},
   "outputs": [
    {
     "data": {
      "text/html": [
       "<div>\n",
       "<style scoped>\n",
       "    .dataframe tbody tr th:only-of-type {\n",
       "        vertical-align: middle;\n",
       "    }\n",
       "\n",
       "    .dataframe tbody tr th {\n",
       "        vertical-align: top;\n",
       "    }\n",
       "\n",
       "    .dataframe thead th {\n",
       "        text-align: right;\n",
       "    }\n",
       "</style>\n",
       "<table border=\"1\" class=\"dataframe\">\n",
       "  <thead>\n",
       "    <tr style=\"text-align: right;\">\n",
       "      <th></th>\n",
       "      <th>Date</th>\n",
       "      <th>Close</th>\n",
       "    </tr>\n",
       "    <tr>\n",
       "      <th>Date</th>\n",
       "      <th></th>\n",
       "      <th></th>\n",
       "    </tr>\n",
       "  </thead>\n",
       "  <tbody>\n",
       "    <tr>\n",
       "      <th>2023-03-03</th>\n",
       "      <td>2023-03-03</td>\n",
       "      <td>151.03</td>\n",
       "    </tr>\n",
       "    <tr>\n",
       "      <th>2023-03-02</th>\n",
       "      <td>2023-03-02</td>\n",
       "      <td>145.91</td>\n",
       "    </tr>\n",
       "    <tr>\n",
       "      <th>2023-03-01</th>\n",
       "      <td>2023-03-01</td>\n",
       "      <td>145.31</td>\n",
       "    </tr>\n",
       "    <tr>\n",
       "      <th>2023-02-28</th>\n",
       "      <td>2023-02-28</td>\n",
       "      <td>147.41</td>\n",
       "    </tr>\n",
       "    <tr>\n",
       "      <th>2023-02-27</th>\n",
       "      <td>2023-02-27</td>\n",
       "      <td>147.92</td>\n",
       "    </tr>\n",
       "  </tbody>\n",
       "</table>\n",
       "</div>"
      ],
      "text/plain": [
       "                 Date   Close\n",
       "Date                         \n",
       "2023-03-03 2023-03-03  151.03\n",
       "2023-03-02 2023-03-02  145.91\n",
       "2023-03-01 2023-03-01  145.31\n",
       "2023-02-28 2023-02-28  147.41\n",
       "2023-02-27 2023-02-27  147.92"
      ]
     },
     "execution_count": 208,
     "metadata": {},
     "output_type": "execute_result"
    }
   ],
   "source": [
    "df = df[['Date', 'Close']]\n",
    "df.head()\n",
    "\n",
    "#get rid of the $ symbol in our values\n",
    "df = df.replace({'\\$':''}, regex = True)\n",
    "\n",
    "#convert 'Close' to a float, and 'Date' to a Date\n",
    "df = df.astype({\"Close\": float})\n",
    "df[\"Date\"] = pd.to_datetime(df.Date, format=\"%m/%d/%Y\")\n",
    "df.dtypes\n",
    "df.index = df['Date']\n",
    "df.head()"
   ]
  },
  {
   "cell_type": "code",
   "execution_count": 209,
   "metadata": {},
   "outputs": [
    {
     "data": {
      "text/plain": [
       "[<matplotlib.lines.Line2D at 0x1c6f564e7a0>]"
      ]
     },
     "execution_count": 209,
     "metadata": {},
     "output_type": "execute_result"
    },
    {
     "data": {
      "image/png": "[encoded data removed]",
      "text/plain": [
       "<Figure size 2000x1000 with 1 Axes>"
      ]
     },
     "metadata": {},
     "output_type": "display_data"
    }
   ],
   "source": [
    "#define the index of our table\n",
    "df.index = df['Date']\n",
    "plt.plot(df[\"Close\"],label='Close Price history')\n"
   ]
  },
  {
   "cell_type": "code",
   "execution_count": 210,
   "metadata": {},
   "outputs": [
    {
     "name": "stdout",
     "output_type": "stream",
     "text": [
      "Length of Data:  19\n"
     ]
    },
    {
     "data": {
      "text/html": [
       "<div>\n",
       "<style scoped>\n",
       "    .dataframe tbody tr th:only-of-type {\n",
       "        vertical-align: middle;\n",
       "    }\n",
       "\n",
       "    .dataframe tbody tr th {\n",
       "        vertical-align: top;\n",
       "    }\n",
       "\n",
       "    .dataframe thead th {\n",
       "        text-align: right;\n",
       "    }\n",
       "</style>\n",
       "<table border=\"1\" class=\"dataframe\">\n",
       "  <thead>\n",
       "    <tr style=\"text-align: right;\">\n",
       "      <th></th>\n",
       "      <th>Date</th>\n",
       "      <th>Close</th>\n",
       "    </tr>\n",
       "  </thead>\n",
       "  <tbody>\n",
       "    <tr>\n",
       "      <th>0</th>\n",
       "      <td>2023-02-06 00:00:00</td>\n",
       "      <td>151.73</td>\n",
       "    </tr>\n",
       "    <tr>\n",
       "      <th>1</th>\n",
       "      <td>2023-02-07 00:00:00</td>\n",
       "      <td>154.65</td>\n",
       "    </tr>\n",
       "    <tr>\n",
       "      <th>2</th>\n",
       "      <td>2023-02-08 00:00:00</td>\n",
       "      <td>151.92</td>\n",
       "    </tr>\n",
       "    <tr>\n",
       "      <th>3</th>\n",
       "      <td>2023-02-09 00:00:00</td>\n",
       "      <td>150.87</td>\n",
       "    </tr>\n",
       "    <tr>\n",
       "      <th>4</th>\n",
       "      <td>2023-02-10 00:00:00</td>\n",
       "      <td>151.01</td>\n",
       "    </tr>\n",
       "  </tbody>\n",
       "</table>\n",
       "</div>"
      ],
      "text/plain": [
       "                  Date   Close\n",
       "0  2023-02-06 00:00:00  151.73\n",
       "1  2023-02-07 00:00:00  154.65\n",
       "2  2023-02-08 00:00:00  151.92\n",
       "3  2023-02-09 00:00:00  150.87\n",
       "4  2023-02-10 00:00:00  151.01"
      ]
     },
     "execution_count": 210,
     "metadata": {},
     "output_type": "execute_result"
    }
   ],
   "source": [
    "df = df.sort_index(ascending=True,axis=0)\n",
    "data = pd.DataFrame(index=range(0,len(df)),columns=['Date','Close'])\n",
    "for i in range(0,len(data)):\n",
    "    data[\"Date\"][i]=df['Date'][i]\n",
    "    data[\"Close\"][i]=df[\"Close\"][i]\n",
    "print('Length of Data: ', len(data))\n",
    "data.head()"
   ]
  },
  {
   "cell_type": "code",
   "execution_count": 211,
   "metadata": {},
   "outputs": [
    {
     "name": "stdout",
     "output_type": "stream",
     "text": [
      "1\n"
     ]
    },
    {
     "ename": "IndexError",
     "evalue": "tuple index out of range",
     "output_type": "error",
     "traceback": [
      "\u001b[1;31m---------------------------------------------------------------------------\u001b[0m",
      "\u001b[1;31mIndexError\u001b[0m                                Traceback (most recent call last)",
      "Cell \u001b[1;32mIn[211], line 25\u001b[0m\n\u001b[0;32m     18\u001b[0m \u001b[39m\"\"\"\u001b[39;00m\n\u001b[0;32m     19\u001b[0m \u001b[39mprint(len(train_data))\u001b[39;00m\n\u001b[0;32m     20\u001b[0m \u001b[39mprint(x_train_data)\u001b[39;00m\n\u001b[0;32m     21\u001b[0m \u001b[39mprint(y_train_data)\u001b[39;00m\n\u001b[0;32m     22\u001b[0m \u001b[39mprint(scaled_data)\u001b[39;00m\n\u001b[0;32m     23\u001b[0m \u001b[39m\"\"\"\u001b[39;00m\n\u001b[0;32m     24\u001b[0m \u001b[39mprint\u001b[39m(\u001b[39mlen\u001b[39m(x_train_data_cleaned\u001b[39m.\u001b[39mshape))\n\u001b[1;32m---> 25\u001b[0m \u001b[39mprint\u001b[39m(x_train_data_cleaned\u001b[39m.\u001b[39;49mshape[\u001b[39m1\u001b[39;49m])\n\u001b[0;32m     26\u001b[0m \u001b[39m\"\"\"\u001b[39;00m\n\u001b[0;32m     27\u001b[0m \u001b[39mx_train_data = np.asarray(x_train_data)\u001b[39;00m\n\u001b[0;32m     28\u001b[0m \u001b[39my_train_data = np.asarray(y_train_data)\u001b[39;00m\n\u001b[0;32m     29\u001b[0m \u001b[39mx_train_data = np.reshape(x_train_data, (x_train_data.shape[0], x_train_data.shape[1],1))\u001b[39;00m\n\u001b[0;32m     30\u001b[0m \u001b[39m\"\"\"\u001b[39;00m\n",
      "\u001b[1;31mIndexError\u001b[0m: tuple index out of range"
     ]
    }
   ],
   "source": [
    "#Min-Max Scaler\n",
    "scaler=MinMaxScaler(feature_range=(0,1))\n",
    "data.index=data.Date\n",
    "data.drop(\"Date\",axis=1,inplace=True)\n",
    "final_data = data.values\n",
    "#print('final data', final_data)\n",
    "train_data=final_data[0:200,:]\n",
    "valid_data=final_data[200:,:]\n",
    "scaler=MinMaxScaler(feature_range=(0,1))\n",
    "scaled_data=scaler.fit_transform(final_data)\n",
    "x_train_data,y_train_data=[],[]\n",
    "#print('train data', train_data)\n",
    "for i in range(60,len(train_data)):\n",
    "    x_train_data.append(scaled_data[i-60:i,0])\n",
    "    y_train_data.append(scaled_data[i,0])\n",
    "\n",
    "x_train_data_cleaned = np.array(x_train_data)\n",
    "\"\"\"\n",
    "print(len(train_data))\n",
    "print(x_train_data)\n",
    "print(y_train_data)\n",
    "print(scaled_data)\n",
    "\"\"\"\n",
    "print(len(x_train_data_cleaned.shape))\n",
    "print(x_train_data_cleaned.shape[1])\n",
    "\"\"\"\n",
    "x_train_data = np.asarray(x_train_data)\n",
    "y_train_data = np.asarray(y_train_data)\n",
    "x_train_data = np.reshape(x_train_data, (x_train_data.shape[0], x_train_data.shape[1],1))\n",
    "\"\"\""
   ]
  },
  {
   "cell_type": "code",
   "execution_count": null,
   "metadata": {},
   "outputs": [
    {
     "ename": "IndexError",
     "evalue": "tuple index out of range",
     "output_type": "error",
     "traceback": [
      "\u001b[1;31m---------------------------------------------------------------------------\u001b[0m",
      "\u001b[1;31mIndexError\u001b[0m                                Traceback (most recent call last)",
      "Cell \u001b[1;32mIn[205], line 3\u001b[0m\n\u001b[0;32m      1\u001b[0m \u001b[39m#defining LTSM model\u001b[39;00m\n\u001b[0;32m      2\u001b[0m lstm_model\u001b[39m=\u001b[39mSequential()\n\u001b[1;32m----> 3\u001b[0m lstm_model\u001b[39m.\u001b[39madd(LSTM(units\u001b[39m=\u001b[39m\u001b[39m50\u001b[39m,return_sequences\u001b[39m=\u001b[39m\u001b[39mTrue\u001b[39;00m,input_shape\u001b[39m=\u001b[39m(np\u001b[39m.\u001b[39;49mshape(x_train_data)[\u001b[39m1\u001b[39;49m],\u001b[39m1\u001b[39m)))\n\u001b[0;32m      4\u001b[0m lstm_model\u001b[39m.\u001b[39madd(LSTM(units\u001b[39m=\u001b[39m\u001b[39m50\u001b[39m))\n\u001b[0;32m      5\u001b[0m lstm_model\u001b[39m.\u001b[39madd(Dense(\u001b[39m1\u001b[39m))\n",
      "\u001b[1;31mIndexError\u001b[0m: tuple index out of range"
     ]
    }
   ],
   "source": [
    "#defining LTSM model\n",
    "lstm_model=Sequential()\n",
    "lstm_model.add(LSTM(units=50,return_sequences=True,input_shape=(np.shape(x_train_data)[1],1)))\n",
    "lstm_model.add(LSTM(units=50))\n",
    "lstm_model.add(Dense(1))\n",
    "model_data=data[len(data)-len(valid_data)-60:].values\n",
    "model_data=model_data.reshape(-1,1)\n",
    "model_data=scaler.transform(model_data)\n",
    "print(x_train_data)\n",
    "\"\"\"\n",
    "\n",
    "\"\"\"\n",
    "\n"
   ]
  },
  {
   "cell_type": "code",
   "execution_count": null,
   "metadata": {},
   "outputs": [
    {
     "ename": "KeyError",
     "evalue": "'pop from an empty set'",
     "output_type": "error",
     "traceback": [
      "\u001b[1;31m---------------------------------------------------------------------------\u001b[0m",
      "\u001b[1;31mKeyError\u001b[0m                                  Traceback (most recent call last)",
      "Cell \u001b[1;32mIn[198], line 3\u001b[0m\n\u001b[0;32m      1\u001b[0m \u001b[39m#prepare the training and test data\u001b[39;00m\n\u001b[0;32m      2\u001b[0m lstm_model\u001b[39m.\u001b[39mcompile(loss\u001b[39m=\u001b[39m\u001b[39m'\u001b[39m\u001b[39mmean_squared_error\u001b[39m\u001b[39m'\u001b[39m,optimizer\u001b[39m=\u001b[39m\u001b[39m'\u001b[39m\u001b[39madam\u001b[39m\u001b[39m'\u001b[39m)\n\u001b[1;32m----> 3\u001b[0m lstm_model\u001b[39m.\u001b[39;49mfit(x_train_data,y_train_data,epochs\u001b[39m=\u001b[39;49m\u001b[39m1\u001b[39;49m,batch_size\u001b[39m=\u001b[39;49m\u001b[39m1\u001b[39;49m,verbose\u001b[39m=\u001b[39;49m\u001b[39m2\u001b[39;49m)\n\u001b[0;32m      4\u001b[0m X_test\u001b[39m=\u001b[39m[]\n\u001b[0;32m      5\u001b[0m \u001b[39mfor\u001b[39;00m i \u001b[39min\u001b[39;00m \u001b[39mrange\u001b[39m(\u001b[39m60\u001b[39m,model_data\u001b[39m.\u001b[39mshape[\u001b[39m0\u001b[39m]):\n",
      "File \u001b[1;32m~\\AppData\\Local\\Packages\\PythonSoftwareFoundation.Python.3.10_qbz5n2kfra8p0\\LocalCache\\local-packages\\Python310\\site-packages\\keras\\utils\\traceback_utils.py:70\u001b[0m, in \u001b[0;36mfilter_traceback.<locals>.error_handler\u001b[1;34m(*args, **kwargs)\u001b[0m\n\u001b[0;32m     67\u001b[0m     filtered_tb \u001b[39m=\u001b[39m _process_traceback_frames(e\u001b[39m.\u001b[39m__traceback__)\n\u001b[0;32m     68\u001b[0m     \u001b[39m# To get the full stack trace, call:\u001b[39;00m\n\u001b[0;32m     69\u001b[0m     \u001b[39m# `tf.debugging.disable_traceback_filtering()`\u001b[39;00m\n\u001b[1;32m---> 70\u001b[0m     \u001b[39mraise\u001b[39;00m e\u001b[39m.\u001b[39mwith_traceback(filtered_tb) \u001b[39mfrom\u001b[39;00m \u001b[39mNone\u001b[39m\n\u001b[0;32m     71\u001b[0m \u001b[39mfinally\u001b[39;00m:\n\u001b[0;32m     72\u001b[0m     \u001b[39mdel\u001b[39;00m filtered_tb\n",
      "File \u001b[1;32m~\\AppData\\Local\\Packages\\PythonSoftwareFoundation.Python.3.10_qbz5n2kfra8p0\\LocalCache\\local-packages\\Python310\\site-packages\\keras\\engine\\data_adapter.py:259\u001b[0m, in \u001b[0;36mTensorLikeDataAdapter.__init__\u001b[1;34m(self, x, y, sample_weights, sample_weight_modes, batch_size, epochs, steps, shuffle, **kwargs)\u001b[0m\n\u001b[0;32m    251\u001b[0m (sample_weights, _, _) \u001b[39m=\u001b[39m training_utils\u001b[39m.\u001b[39mhandle_partial_sample_weights(\n\u001b[0;32m    252\u001b[0m     y, sample_weights, sample_weight_modes, check_all_flat\u001b[39m=\u001b[39m\u001b[39mTrue\u001b[39;00m\n\u001b[0;32m    253\u001b[0m )\n\u001b[0;32m    255\u001b[0m inputs \u001b[39m=\u001b[39m pack_x_y_sample_weight(x, y, sample_weights)\n\u001b[0;32m    257\u001b[0m num_samples \u001b[39m=\u001b[39m \u001b[39mset\u001b[39;49m(\n\u001b[0;32m    258\u001b[0m     \u001b[39mint\u001b[39;49m(i\u001b[39m.\u001b[39;49mshape[\u001b[39m0\u001b[39;49m]) \u001b[39mfor\u001b[39;49;00m i \u001b[39min\u001b[39;49;00m tf\u001b[39m.\u001b[39;49mnest\u001b[39m.\u001b[39;49mflatten(inputs)\n\u001b[1;32m--> 259\u001b[0m )\u001b[39m.\u001b[39;49mpop()\n\u001b[0;32m    260\u001b[0m _check_data_cardinality(inputs)\n\u001b[0;32m    262\u001b[0m \u001b[39m# If batch_size is not passed but steps is, calculate from the input\u001b[39;00m\n\u001b[0;32m    263\u001b[0m \u001b[39m# data.  Default to 32 for backwards compat.\u001b[39;00m\n",
      "\u001b[1;31mKeyError\u001b[0m: 'pop from an empty set'"
     ]
    }
   ],
   "source": [
    "#prepare the training and test data\n",
    "lstm_model.compile(loss='mean_squared_error',optimizer='adam')\n",
    "lstm_model.fit(x_train_data,y_train_data,epochs=1,batch_size=1,verbose=2)\n",
    "X_test=[]\n",
    "for i in range(60,model_data.shape[0]):\n",
    "    X_test.append(model_data[i-60:i,0])\n",
    "X_test=np.array(X_test)\n",
    "X_test=np.reshape(X_test,(X_test.shape[0],X_test.shape[1],1))"
   ]
  },
  {
   "cell_type": "code",
   "execution_count": null,
   "metadata": {},
   "outputs": [],
   "source": [
    "#run the model\n",
    "predicted_stock_price=lstm_model.predict(X_test)\n",
    "predicted_stock_price=scaler.inverse_transform(predicted_stock_price)"
   ]
  },
  {
   "cell_type": "code",
   "execution_count": null,
   "metadata": {},
   "outputs": [],
   "source": [
    "train_data=data[:200]\n",
    "valid_data=data[200:]\n",
    "valid_data['Predictions']=predicted_stock_price\n",
    "plt.plot(train_data[\"Close\"])\n",
    "plt.plot(valid_data[['Close',\"Predictions\"]])"
   ]
  }
 ],
 "metadata": {
  "kernelspec": {
   "display_name": "Python 3",
   "language": "python",
   "name": "python3"
  },
  "language_info": {
   "codemirror_mode": {
    "name": "ipython",
    "version": 3
   },
   "file_extension": ".py",
   "mimetype": "text/x-python",
   "name": "python",
   "nbconvert_exporter": "python",
   "pygments_lexer": "ipython3",
   "version": "3.10.11"
  },
  "orig_nbformat": 4,
  "vscode": {
   "interpreter": {
    "hash": "62363f2d3aa46f14d1124cf17585899f6a14df9fd14bb506fa6f05e26d14c0b0"
   }
  }
 },
 "nbformat": 4,
 "nbformat_minor": 2
}
